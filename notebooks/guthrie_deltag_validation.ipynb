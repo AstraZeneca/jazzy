{
 "cells": [
  {
   "cell_type": "code",
   "execution_count": 1,
   "metadata": {},
   "outputs": [],
   "source": [
    "import os\n",
    "import sys\n",
    "import bz2\n",
    "import json\n",
    "import mpld3\n",
    "import pandas as pd\n",
    "import _pickle as cPickle\n",
    "import svgutils.transform as sg\n",
    "import matplotlib.pyplot as plt\n",
    "\n",
    "from jazzy import core\n",
    "from rdkit import Chem\n",
    "from rdkit.Chem.Draw import rdDepictor\n",
    "from rdkit.Chem.Draw import rdMolDraw2D\n",
    "from sklearn.metrics import mean_absolute_error, r2_score\n",
    "# from mpld3 import plugins\n",
    "# mpld3.enable_notebook()"
   ]
  },
  {
   "cell_type": "code",
   "execution_count": 2,
   "metadata": {},
   "outputs": [
    {
     "name": "stderr",
     "output_type": "stream",
     "text": [
      "/home/kdxr003/.cache/pypoetry/virtualenvs/jazzy-ZuwbZvu4-py3.8/lib/python3.8/site-packages/tqdm/auto.py:22: TqdmWarning: IProgress not found. Please update jupyter and ipywidgets. See https://ipywidgets.readthedocs.io/en/stable/user_install.html\n",
      "  from .autonotebook import tqdm as notebook_tqdm\n"
     ]
    },
    {
     "data": {
      "text/plain": [
       "{'gd': -0.9076664181509553,\n",
       " 'ga': -16.13143317348325,\n",
       " 'g0': 1.8842791231644282,\n",
       " 'gs': 0.046698073586512054,\n",
       " 'gr': -3.6429426011852524,\n",
       " 'gpi1': -1.6022604035599135,\n",
       " 'gpi2': -1.1740853831959548,\n",
       " 'gi': 4.999560447432514,\n",
       " 'F': 0.5143359987215719,\n",
       " 'expd': 0.5041243951898653,\n",
       " 'expa': 0.3436880638589098}"
      ]
     },
     "execution_count": 2,
     "metadata": {},
     "output_type": "execute_result"
    }
   ],
   "source": [
    "# Import config\n",
    "opt_path = os.path.abspath(os.path.join(os.getcwd(), '..', 'optimisation'))\n",
    "sys.path.insert(0, opt_path)\n",
    "import config\n",
    "\n",
    "# Open the parameters\n",
    "data_path = os.path.abspath(os.path.join(os.getcwd(), '..', config.DATA_PATH))\n",
    "optuna_path = os.path.join(data_path, config.OPTUNA_DIRNAME)\n",
    "params_filepath = os.path.join(optuna_path, config.OPTUNA_DELTAG_PARAMETERS_FILENAME)\n",
    "with open(params_filepath) as f:\n",
    "    best_params = json.load(f)\n",
    "best_params"
   ]
  },
  {
   "cell_type": "code",
   "execution_count": 3,
   "metadata": {},
   "outputs": [],
   "source": [
    "# Select parameters\n",
    "gd = best_params['gd']              # gd=-139.0\n",
    "ga = best_params['ga']              # ga=-32.0\n",
    "g0 = best_params['g0']              # g0=5.53\n",
    "gs = best_params['gs']              # gs=0.031\n",
    "gr = best_params['gr']              # gr=-4.39\n",
    "gpi1 = best_params['gpi1']          # gpi1=-1.82\n",
    "gpi2 = best_params['gpi2']          # gpi2=-1.29   \n",
    "gi = best_params['gi']              # gi=37.2\n",
    "f = best_params['F']                # f=0.325\n",
    "expd = best_params['expd']          # expd=0.68\n",
    "expa = best_params['expa']          # expa=0.51"
   ]
  },
  {
   "cell_type": "code",
   "execution_count": 4,
   "metadata": {},
   "outputs": [],
   "source": [
    "def moltosvg(mol, molSize=(100,100), kekulize=True, label=None):\n",
    "    \"\"\"Produces the rendering of an input RDKit molecule.\n",
    "    \"\"\"\n",
    "    mc = Chem.Mol(mol.ToBinary())\n",
    "    if kekulize:\n",
    "        try:\n",
    "            Chem.Kekulize(mc)\n",
    "        except:\n",
    "            mc = Chem.Mol(mol.ToBinary())\n",
    "    if not mc.GetNumConformers():\n",
    "        rdDepictor.Compute2DCoords(mc)\n",
    "    drawer = rdMolDraw2D.MolDraw2DSVG(molSize[0],molSize[1])\n",
    "    drawer.DrawMolecule(mc)\n",
    "    drawer.FinishDrawing()\n",
    "    svg = drawer.GetDrawingText()\n",
    "    s = svg.replace('svg:','')\n",
    "    if label is not None:\n",
    "        fig = sg.fromstring(s)\n",
    "        label = sg.TextElement(80, 80, label, size=12, \n",
    "                        font='sans-serif', anchor='middle', color='#000000')\n",
    "        fig.append(label)\n",
    "        s = fig.to_str().decode(\"utf-8\") \n",
    "    return s"
   ]
  },
  {
   "cell_type": "code",
   "execution_count": 5,
   "metadata": {},
   "outputs": [],
   "source": [
    "def calculate_deltag(rdkit_mol, atomic_map, atoms_and_nbrs):\n",
    "    \"\"\"Calculate individual terms and return their sum\n",
    "    \"\"\"\n",
    "    dgp = round(core.calculate_delta_polar(atomic_map, \n",
    "                                           atoms_and_nbrs, \n",
    "                                           gd=gd, \n",
    "                                           ga=ga,\n",
    "                                           expd=expd,\n",
    "                                           expa=expa), \n",
    "                                           4)\n",
    "\n",
    "    dga = round(core.calculate_delta_apolar(rdkit_mol, \n",
    "                                            atomic_map,\n",
    "                                            g0=g0,\n",
    "                                            gs=gs,\n",
    "                                            gr=gr,\n",
    "                                            gpi1=gpi1,\n",
    "                                            gpi2=gpi2),\n",
    "                                            4)\n",
    "\n",
    "    dgi = round(core.calculate_delta_interaction(rdkit_mol, \n",
    "                                                 atomic_map,\n",
    "                                                 atoms_and_nbrs,\n",
    "                                                 gi=gi,\n",
    "                                                 expa=expa, \n",
    "                                                 f=f),\n",
    "                                                 4)\n",
    "    calc_deltag = dgp + dga + dgi\n",
    "    return(calc_deltag)"
   ]
  },
  {
   "cell_type": "code",
   "execution_count": 6,
   "metadata": {},
   "outputs": [],
   "source": [
    "def kcal_to_kj(v):\n",
    "    \"\"\"Conversion from kCal to kJ\n",
    "    \"\"\"\n",
    "    return v*4.184"
   ]
  },
  {
   "cell_type": "code",
   "execution_count": 7,
   "metadata": {},
   "outputs": [
    {
     "data": {
      "text/html": [
       "<div>\n",
       "<style scoped>\n",
       "    .dataframe tbody tr th:only-of-type {\n",
       "        vertical-align: middle;\n",
       "    }\n",
       "\n",
       "    .dataframe tbody tr th {\n",
       "        vertical-align: top;\n",
       "    }\n",
       "\n",
       "    .dataframe thead th {\n",
       "        text-align: right;\n",
       "    }\n",
       "</style>\n",
       "<table border=\"1\" class=\"dataframe\">\n",
       "  <thead>\n",
       "    <tr style=\"text-align: right;\">\n",
       "      <th></th>\n",
       "      <th>mol</th>\n",
       "      <th>Name</th>\n",
       "      <th>value1</th>\n",
       "      <th>error1</th>\n",
       "      <th>dimension1</th>\n",
       "    </tr>\n",
       "  </thead>\n",
       "  <tbody>\n",
       "    <tr>\n",
       "      <th>0</th>\n",
       "      <td>CC(C)(C)C</td>\n",
       "      <td>2,2-dimethylpropane</td>\n",
       "      <td>6.78</td>\n",
       "      <td>1.93</td>\n",
       "      <td>kcal/mol</td>\n",
       "    </tr>\n",
       "    <tr>\n",
       "      <th>1</th>\n",
       "      <td>CC(C)C</td>\n",
       "      <td>2-methylpropane</td>\n",
       "      <td>6.59</td>\n",
       "      <td>1.93</td>\n",
       "      <td>kcal/mol</td>\n",
       "    </tr>\n",
       "    <tr>\n",
       "      <th>2</th>\n",
       "      <td>C(CC)(CC)(CC)CC</td>\n",
       "      <td>3,3-diethylpentane</td>\n",
       "      <td>6.50</td>\n",
       "      <td>1.93</td>\n",
       "      <td>kcal/mol</td>\n",
       "    </tr>\n",
       "    <tr>\n",
       "      <th>3</th>\n",
       "      <td>[Ar]</td>\n",
       "      <td>Argon</td>\n",
       "      <td>6.27</td>\n",
       "      <td>1.93</td>\n",
       "      <td>kcal/mol</td>\n",
       "    </tr>\n",
       "    <tr>\n",
       "      <th>4</th>\n",
       "      <td>CCCC</td>\n",
       "      <td>butane</td>\n",
       "      <td>6.35</td>\n",
       "      <td>1.93</td>\n",
       "      <td>kcal/mol</td>\n",
       "    </tr>\n",
       "    <tr>\n",
       "      <th>...</th>\n",
       "      <td>...</td>\n",
       "      <td>...</td>\n",
       "      <td>...</td>\n",
       "      <td>...</td>\n",
       "      <td>...</td>\n",
       "    </tr>\n",
       "    <tr>\n",
       "      <th>3311</th>\n",
       "      <td>CSCC</td>\n",
       "      <td>thiomethoxyethane</td>\n",
       "      <td>-1.49</td>\n",
       "      <td>1.93</td>\n",
       "      <td>kcal/mol</td>\n",
       "    </tr>\n",
       "    <tr>\n",
       "      <th>3312</th>\n",
       "      <td>CSCC</td>\n",
       "      <td>thiomethoxyethane</td>\n",
       "      <td>-1.49</td>\n",
       "      <td>1.93</td>\n",
       "      <td>kcal/mol</td>\n",
       "    </tr>\n",
       "    <tr>\n",
       "      <th>3313</th>\n",
       "      <td>c1ccccc1C</td>\n",
       "      <td>toluene</td>\n",
       "      <td>-0.90</td>\n",
       "      <td>1.93</td>\n",
       "      <td>kcal/mol</td>\n",
       "    </tr>\n",
       "    <tr>\n",
       "      <th>3314</th>\n",
       "      <td>c1ccccc1C</td>\n",
       "      <td>toluene</td>\n",
       "      <td>-0.90</td>\n",
       "      <td>1.93</td>\n",
       "      <td>kcal/mol</td>\n",
       "    </tr>\n",
       "    <tr>\n",
       "      <th>3315</th>\n",
       "      <td>N(CC)(CC)CC</td>\n",
       "      <td>triethylamine</td>\n",
       "      <td>-3.04</td>\n",
       "      <td>1.93</td>\n",
       "      <td>kcal/mol</td>\n",
       "    </tr>\n",
       "  </tbody>\n",
       "</table>\n",
       "<p>3316 rows × 5 columns</p>\n",
       "</div>"
      ],
      "text/plain": [
       "                  mol                 Name  value1  error1 dimension1\n",
       "0           CC(C)(C)C  2,2-dimethylpropane    6.78    1.93   kcal/mol\n",
       "1              CC(C)C      2-methylpropane    6.59    1.93   kcal/mol\n",
       "2     C(CC)(CC)(CC)CC   3,3-diethylpentane    6.50    1.93   kcal/mol\n",
       "3                [Ar]                Argon    6.27    1.93   kcal/mol\n",
       "4                CCCC               butane    6.35    1.93   kcal/mol\n",
       "...               ...                  ...     ...     ...        ...\n",
       "3311             CSCC    thiomethoxyethane   -1.49    1.93   kcal/mol\n",
       "3312             CSCC    thiomethoxyethane   -1.49    1.93   kcal/mol\n",
       "3313        c1ccccc1C              toluene   -0.90    1.93   kcal/mol\n",
       "3314        c1ccccc1C              toluene   -0.90    1.93   kcal/mol\n",
       "3315      N(CC)(CC)CC        triethylamine   -3.04    1.93   kcal/mol\n",
       "\n",
       "[3316 rows x 5 columns]"
      ]
     },
     "execution_count": 7,
     "metadata": {},
     "output_type": "execute_result"
    }
   ],
   "source": [
    "# Read data\n",
    "guthrie_filepath = os.path.join(data_path, \"free_energy_guthrie\", \"02-guthrie_curated.csv\")\n",
    "fields = [\"mol\", \"Name\", \"value1\", \"error1\", \"dimension1\"]\n",
    "df = pd.read_csv(guthrie_filepath, usecols=fields)\n",
    "df"
   ]
  },
  {
   "cell_type": "code",
   "execution_count": 8,
   "metadata": {},
   "outputs": [
    {
     "data": {
      "text/plain": [
       "{'kCal/mol', 'kJ/mol', 'kcal/mol'}"
      ]
     },
     "execution_count": 8,
     "metadata": {},
     "output_type": "execute_result"
    }
   ],
   "source": [
    "# Determine what dimensions are available in the data set\n",
    "set(df[\"dimension1\"])"
   ]
  },
  {
   "cell_type": "code",
   "execution_count": 9,
   "metadata": {},
   "outputs": [
    {
     "data": {
      "text/plain": [
       "(0.0026, 10.0, 2.581170172549457)"
      ]
     },
     "execution_count": 9,
     "metadata": {},
     "output_type": "execute_result"
    }
   ],
   "source": [
    "# Determine range of errors and average error in the data set\n",
    "df[\"error1\"].min(), df[\"error1\"].max(), df[\"error1\"].mean(), "
   ]
  },
  {
   "cell_type": "code",
   "execution_count": 10,
   "metadata": {},
   "outputs": [
    {
     "name": "stderr",
     "output_type": "stream",
     "text": [
      "[11:26:50] UFFTYPER: Unrecognized atom type: Ar3 (0)\n",
      "RDKit ERROR: [11:26:50] UFFTYPER: Unrecognized atom type: Ar3 (0)\n",
      "[11:26:50] UFFTYPER: Unrecognized atom type: He (0)\n",
      "RDKit ERROR: [11:26:50] UFFTYPER: Unrecognized atom type: He (0)\n",
      "[11:26:50] UFFTYPER: Unrecognized atom type: Kr3 (0)\n",
      "RDKit ERROR: [11:26:50] UFFTYPER: Unrecognized atom type: Kr3 (0)\n",
      "[11:26:50] UFFTYPER: Unrecognized atom type: Ne3 (0)\n",
      "RDKit ERROR: [11:26:50] UFFTYPER: Unrecognized atom type: Ne3 (0)\n",
      "[11:26:50] UFFTYPER: Unrecognized atom type: Rn3 (0)\n",
      "RDKit ERROR: [11:26:50] UFFTYPER: Unrecognized atom type: Rn3 (0)\n",
      "[11:26:50] UFFTYPER: Unrecognized atom type: S_6+6 (0)\n",
      "RDKit ERROR: [11:26:50] UFFTYPER: Unrecognized atom type: S_6+6 (0)\n",
      "Jazzy ERROR: [11:26:50] The RDKit embedding has failed for the molecule: S(F)(F)(F)(F)(F)F\n",
      "[11:26:50] UFFTYPER: Unrecognized atom type: Xe3 (0)\n",
      "RDKit ERROR: [11:26:50] UFFTYPER: Unrecognized atom type: Xe3 (0)\n"
     ]
    },
    {
     "name": "stdout",
     "output_type": "stream",
     "text": [
      "'NoneType' object has no attribute 'HasProp'\n",
      "S(F)(F)(F)(F)(F)F\n"
     ]
    },
    {
     "name": "stderr",
     "output_type": "stream",
     "text": [
      "RDKit ERROR: [11:28:31] Explicit valence for atom # 1 Cl, 4, is greater than permitted\n",
      "[11:28:31] Explicit valence for atom # 1 Cl, 4, is greater than permitted\n",
      "Jazzy ERROR: [11:28:31] The RDKit SMILES parsing has failed for the molecule: O=Cl=O\n"
     ]
    },
    {
     "name": "stdout",
     "output_type": "stream",
     "text": [
      "'NoneType' object has no attribute 'HasProp'\n",
      "O=Cl=O\n"
     ]
    },
    {
     "name": "stderr",
     "output_type": "stream",
     "text": [
      "[11:28:33] UFFTYPER: Unrecognized atom type: S_6+6 (0)\n",
      "RDKit ERROR: [11:28:33] UFFTYPER: Unrecognized atom type: S_6+6 (0)\n",
      "Jazzy ERROR: [11:28:33] The RDKit embedding has failed for the molecule: S(F)(F)(F)(F)(F)F\n"
     ]
    },
    {
     "name": "stdout",
     "output_type": "stream",
     "text": [
      "'NoneType' object has no attribute 'HasProp'\n",
      "S(F)(F)(F)(F)(F)F\n"
     ]
    }
   ],
   "source": [
    "y_exp = []\n",
    "y_calc = []\n",
    "smiles = []\n",
    "svgs = []\n",
    "\n",
    "for idx, row in df.iterrows():\n",
    "    try:\n",
    "        rdkit_mol = core.rdkit_molecule_from_smiles(row[\"mol\"], minimisation_method=config.MINIMISATION_METHOD)\n",
    "        kallisto_mol = core.kallisto_molecule_from_rdkit_molecule(rdkit_mol)\n",
    "        atoms_and_nbrs = core.get_covalent_atom_idxs(rdkit_mol)\n",
    "        charges = core.get_charges_from_kallisto_molecule(kallisto_mol, charge=0)\n",
    "\n",
    "        # Calculate polar strength map and energy of hydration\n",
    "        atomic_map = core.calculate_polar_strength_map(rdkit_mol, kallisto_mol, atoms_and_nbrs, charges)\n",
    "        y_calc.append(calculate_deltag(rdkit_mol, atomic_map, atoms_and_nbrs))\n",
    "\n",
    "        # Get the appropriate experimental value\n",
    "        y_exp.append(float(row[\"value1\"]) if row[\"dimension1\"] == \"kJ/mol\" else kcal_to_kj(float(row[\"value1\"])))\n",
    "\n",
    "        # Append SMILES and SVG, if nothing fails\n",
    "        smiles.append(row[\"mol\"])\n",
    "        svgs.append(moltosvg(Chem.MolFromSmiles(row[\"mol\"]), label=str(idx)))\n",
    "\n",
    "    except (KeyError, AttributeError, TypeError) as e:\n",
    "        print(e)\n",
    "        print(row[\"mol\"])\n",
    "        continue\n",
    "\n",
    "assert len(y_calc) == len(y_exp), \"Something has not worked as expected...\"\n",
    "assert len(y_calc) == len(smiles), \"Something has not worked as expected...\"\n",
    "assert len(y_calc) == len(svgs), \"Something has not worked as expected...\""
   ]
  },
  {
   "cell_type": "code",
   "execution_count": 13,
   "metadata": {},
   "outputs": [
    {
     "data": {
      "text/plain": [
       "3313"
      ]
     },
     "execution_count": 13,
     "metadata": {},
     "output_type": "execute_result"
    }
   ],
   "source": [
    "len(y_calc)"
   ]
  },
  {
   "cell_type": "code",
   "execution_count": 11,
   "metadata": {},
   "outputs": [
    {
     "name": "stdout",
     "output_type": "stream",
     "text": [
      "Jazzy predictions vs. experimental data: 0.6120156107863967 5.903979942478795\n"
     ]
    }
   ],
   "source": [
    "print(\"Jazzy predictions vs. experimental data:\", r2_score(y_exp, y_calc), mean_absolute_error(y_exp, y_calc))"
   ]
  },
  {
   "cell_type": "code",
   "execution_count": 12,
   "metadata": {},
   "outputs": [
    {
     "data": {
      "image/png": "[encoded data removed]",
      "text/plain": [
       "<Figure size 900x600 with 1 Axes>"
      ]
     },
     "metadata": {
      "needs_background": "light"
     },
     "output_type": "display_data"
    }
   ],
   "source": [
    "x = y_exp\n",
    "y = y_calc\n",
    "\n",
    "\"\"\"Jazzy predictions vs. experimental data\"\"\"\n",
    "fig, ax = plt.subplots(dpi=150)\n",
    "ax.plot([0, 1], [0, 1], transform=ax.transAxes, ls=\"--\", c=\".3\", alpha=0.4)\n",
    "points = ax.scatter(x, y, s=4, color='steelblue')\n",
    "ax.set_aspect('equal', adjustable='box')\n",
    "# tooltip = plugins.PointHTMLTooltip(points, svgs)\n",
    "# plugins.connect(fig, tooltip)\n",
    "plt.xlabel(\"exp\")\n",
    "plt.ylabel(\"calc\")\n",
    "plt.show()"
   ]
  }
 ],
 "metadata": {
  "interpreter": {
   "hash": "e49743cb6f6e18f7a2feb94e4607a90b97d7d7ef513a61771bf0b6a8301ce9e8"
  },
  "kernelspec": {
   "display_name": "Python 3.8.5 ('jazzy-ZuwbZvu4-py3.8')",
   "language": "python",
   "name": "python3"
  },
  "language_info": {
   "codemirror_mode": {
    "name": "ipython",
    "version": 3
   },
   "file_extension": ".py",
   "mimetype": "text/x-python",
   "name": "python",
   "nbconvert_exporter": "python",
   "pygments_lexer": "ipython3",
   "version": "3.8.5"
  },
  "orig_nbformat": 2
 },
 "nbformat": 4,
 "nbformat_minor": 2
}
